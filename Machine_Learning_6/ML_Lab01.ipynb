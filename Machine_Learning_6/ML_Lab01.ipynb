{
 "cells": [
  {
   "cell_type": "markdown",
   "id": "e3e5c6a4",
   "metadata": {},
   "source": [
    "## Matrix Addition and Mutliplication."
   ]
  },
  {
   "cell_type": "markdown",
   "id": "3fc09d15",
   "metadata": {},
   "source": [
    "Inputting the dimension of the arrays"
   ]
  },
  {
   "cell_type": "code",
   "execution_count": 12,
   "id": "54a1de38",
   "metadata": {},
   "outputs": [
    {
     "name": "stdout",
     "output_type": "stream",
     "text": [
      "Enter the dimension of the array: 3 3\n"
     ]
    }
   ],
   "source": [
    "import numpy as np\n",
    "x, y = map(int, input(\"Enter the dimension of the array: \").split())"
   ]
  },
  {
   "cell_type": "markdown",
   "id": "82bf02e5",
   "metadata": {},
   "source": [
    "Inputting the arrays"
   ]
  },
  {
   "cell_type": "code",
   "execution_count": 7,
   "id": "f3a7a976",
   "metadata": {},
   "outputs": [
    {
     "name": "stdout",
     "output_type": "stream",
     "text": [
      "Enter the elements of the array: \n",
      "1 1\n",
      "2 2\n",
      "3 3 \n",
      "4 4\n",
      "5 5\n",
      "6 6\n",
      "7 7 \n",
      "8 8 \n",
      "9 9\n",
      "array1:  [[1. 2. 3.]\n",
      " [4. 5. 6.]\n",
      " [7. 8. 9.]]\n",
      "array2 [[1. 4. 7.]\n",
      " [2. 5. 8.]\n",
      " [3. 6. 9.]]\n"
     ]
    }
   ],
   "source": [
    "print(\"Enter the elements of the array: \")\n",
    "for i in range(x):\n",
    "    for j in range(y):\n",
    "        k, l = map(int, input().split())\n",
    "        array1[i][j] += k\n",
    "        array2[j][i] += l\n",
    "print(\"array1\\n: \", array1)\n",
    "print(\"array2\\n\", array2)"
   ]
  },
  {
   "cell_type": "markdown",
   "id": "56c92da9",
   "metadata": {},
   "source": [
    "Arrays for Matrix Multiplication"
   ]
  },
  {
   "cell_type": "code",
   "execution_count": null,
   "id": "6669b2eb",
   "metadata": {},
   "outputs": [],
   "source": [
    "array1 = np.zeros((x, y))\n",
    "array2 = np.zeros((y, x))\n",
    "ans_array = np.zeros((x, x))"
   ]
  },
  {
   "cell_type": "markdown",
   "id": "b37c8edd",
   "metadata": {},
   "source": [
    "Logic For Matrix Multiplication"
   ]
  },
  {
   "cell_type": "code",
   "execution_count": 18,
   "id": "fa4658c6",
   "metadata": {},
   "outputs": [
    {
     "name": "stdout",
     "output_type": "stream",
     "text": [
      "Enter the dimension of the array: 2 3\n",
      "2 3\n",
      "Enter the elements of the array: \n",
      "1 2\n",
      "2 4\n",
      "3 6\n",
      "4 8\n",
      "5 10\n",
      "6 12\n",
      "[[1. 2. 3.]\n",
      " [4. 5. 6.]]\n",
      "[[ 2.  8.]\n",
      " [ 4. 10.]\n",
      " [ 6. 12.]]\n",
      "[[ 28.  64.]\n",
      " [ 64. 154.]]\n"
     ]
    }
   ],
   "source": [
    "for i in range(x):\n",
    "    for j in range(x):\n",
    "        for k in range(y):\n",
    "            ans_array[i][j] += array1[i][k] * array2[k][j]\n",
    "print(\"answer\\n\", ans_array)"
   ]
  },
  {
   "cell_type": "markdown",
   "id": "7d31a6ec",
   "metadata": {},
   "source": [
    "LogicFor Array addition"
   ]
  },
  {
   "cell_type": "code",
   "execution_count": 14,
   "id": "d15234e0",
   "metadata": {},
   "outputs": [
    {
     "name": "stdout",
     "output_type": "stream",
     "text": [
      "answer\n",
      " [[0. 0. 0.]\n",
      " [0. 0. 0.]\n",
      " [0. 0. 0.]]\n",
      "Sum of elements of the 1st matrix\n",
      " 0.0\n"
     ]
    }
   ],
   "source": [
    "k = 0\n",
    "for i in range(x):\n",
    "    for j in range(y):\n",
    "        ans_array[i][j] += array1[i][j] + array2[i][j]\n",
    "        k += array1[i][j]\n",
    "print(\"answer\\n\", ans_array)\n",
    "print(\"Sum of elements of the 1st matrix\\n\", k)"
   ]
  },
  {
   "cell_type": "markdown",
   "id": "0ff5a290",
   "metadata": {},
   "source": [
    "Arrays for Matrix Addition"
   ]
  },
  {
   "cell_type": "code",
   "execution_count": 13,
   "id": "6f6599ed",
   "metadata": {},
   "outputs": [],
   "source": [
    "array1 = np.zeros((x,y))\n",
    "array2 = np.zeros((x,y))\n",
    "ans_array = np.zeros((x,y))"
   ]
  },
  {
   "cell_type": "code",
   "execution_count": null,
   "id": "5ba358a7",
   "metadata": {},
   "outputs": [],
   "source": []
  }
 ],
 "metadata": {
  "kernelspec": {
   "display_name": "Python 3 (ipykernel)",
   "language": "python",
   "name": "python3"
  },
  "language_info": {
   "codemirror_mode": {
    "name": "ipython",
    "version": 3
   },
   "file_extension": ".py",
   "mimetype": "text/x-python",
   "name": "python",
   "nbconvert_exporter": "python",
   "pygments_lexer": "ipython3",
   "version": "3.11.5"
  }
 },
 "nbformat": 4,
 "nbformat_minor": 5
}
